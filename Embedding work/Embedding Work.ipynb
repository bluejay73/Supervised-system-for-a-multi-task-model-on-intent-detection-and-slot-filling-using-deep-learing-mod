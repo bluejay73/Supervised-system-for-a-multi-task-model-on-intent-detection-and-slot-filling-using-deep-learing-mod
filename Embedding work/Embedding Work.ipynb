{
 "cells": [
  {
   "cell_type": "code",
   "execution_count": 1,
   "metadata": {},
   "outputs": [],
   "source": [
    "import numpy as np"
   ]
  },
  {
   "cell_type": "markdown",
   "metadata": {},
   "source": [
    "## Reading Embedding Files"
   ]
  },
  {
   "cell_type": "code",
   "execution_count": 2,
   "metadata": {},
   "outputs": [
    {
     "ename": "UnicodeDecodeError",
     "evalue": "'utf8' codec can't decode byte 0xa1 in position 0: invalid start byte",
     "output_type": "error",
     "traceback": [
      "\u001b[0;31m---------------------------------------------------------------------------\u001b[0m",
      "\u001b[0;31mUnicodeDecodeError\u001b[0m                        Traceback (most recent call last)",
      "\u001b[0;32m<ipython-input-2-67ec6c8dac22>\u001b[0m in \u001b[0;36m<module>\u001b[0;34m()\u001b[0m\n\u001b[1;32m      1\u001b[0m \u001b[0;32mfrom\u001b[0m \u001b[0mgensim\u001b[0m\u001b[0;34m.\u001b[0m\u001b[0mmodels\u001b[0m \u001b[0;32mimport\u001b[0m \u001b[0mKeyedVectors\u001b[0m\u001b[0;34m\u001b[0m\u001b[0m\n\u001b[0;32m----> 2\u001b[0;31m \u001b[0mw2v\u001b[0m \u001b[0;34m=\u001b[0m \u001b[0mKeyedVectors\u001b[0m\u001b[0;34m.\u001b[0m\u001b[0mload_word2vec_format\u001b[0m\u001b[0;34m(\u001b[0m\u001b[0;34m\"/home/sinchan/Videos/wiki-news-300d-1M.vec\"\u001b[0m\u001b[0;34m,\u001b[0m\u001b[0mbinary\u001b[0m \u001b[0;34m=\u001b[0m \u001b[0mTrue\u001b[0m\u001b[0;34m)\u001b[0m\u001b[0;34m\u001b[0m\u001b[0m\n\u001b[0m",
      "\u001b[0;32m/home/sinchan/.local/lib/python2.7/site-packages/gensim/models/keyedvectors.pyc\u001b[0m in \u001b[0;36mload_word2vec_format\u001b[0;34m(cls, fname, fvocab, binary, encoding, unicode_errors, limit, datatype)\u001b[0m\n\u001b[1;32m   1117\u001b[0m         return _load_word2vec_format(\n\u001b[1;32m   1118\u001b[0m             \u001b[0mWord2VecKeyedVectors\u001b[0m\u001b[0;34m,\u001b[0m \u001b[0mfname\u001b[0m\u001b[0;34m,\u001b[0m \u001b[0mfvocab\u001b[0m\u001b[0;34m=\u001b[0m\u001b[0mfvocab\u001b[0m\u001b[0;34m,\u001b[0m \u001b[0mbinary\u001b[0m\u001b[0;34m=\u001b[0m\u001b[0mbinary\u001b[0m\u001b[0;34m,\u001b[0m \u001b[0mencoding\u001b[0m\u001b[0;34m=\u001b[0m\u001b[0mencoding\u001b[0m\u001b[0;34m,\u001b[0m \u001b[0municode_errors\u001b[0m\u001b[0;34m=\u001b[0m\u001b[0municode_errors\u001b[0m\u001b[0;34m,\u001b[0m\u001b[0;34m\u001b[0m\u001b[0m\n\u001b[0;32m-> 1119\u001b[0;31m             limit=limit, datatype=datatype)\n\u001b[0m\u001b[1;32m   1120\u001b[0m \u001b[0;34m\u001b[0m\u001b[0m\n\u001b[1;32m   1121\u001b[0m     \u001b[0;32mdef\u001b[0m \u001b[0mget_keras_embedding\u001b[0m\u001b[0;34m(\u001b[0m\u001b[0mself\u001b[0m\u001b[0;34m,\u001b[0m \u001b[0mtrain_embeddings\u001b[0m\u001b[0;34m=\u001b[0m\u001b[0mFalse\u001b[0m\u001b[0;34m)\u001b[0m\u001b[0;34m:\u001b[0m\u001b[0;34m\u001b[0m\u001b[0m\n",
      "\u001b[0;32m/home/sinchan/.local/lib/python2.7/site-packages/gensim/models/utils_any2vec.pyc\u001b[0m in \u001b[0;36m_load_word2vec_format\u001b[0;34m(cls, fname, fvocab, binary, encoding, unicode_errors, limit, datatype)\u001b[0m\n\u001b[1;32m    211\u001b[0m                     \u001b[0;32mif\u001b[0m \u001b[0mch\u001b[0m \u001b[0;34m!=\u001b[0m \u001b[0;34mb'\\n'\u001b[0m\u001b[0;34m:\u001b[0m  \u001b[0;31m# ignore newlines in front of words (some binary files have)\u001b[0m\u001b[0;34m\u001b[0m\u001b[0m\n\u001b[1;32m    212\u001b[0m                         \u001b[0mword\u001b[0m\u001b[0;34m.\u001b[0m\u001b[0mappend\u001b[0m\u001b[0;34m(\u001b[0m\u001b[0mch\u001b[0m\u001b[0;34m)\u001b[0m\u001b[0;34m\u001b[0m\u001b[0m\n\u001b[0;32m--> 213\u001b[0;31m                 \u001b[0mword\u001b[0m \u001b[0;34m=\u001b[0m \u001b[0mutils\u001b[0m\u001b[0;34m.\u001b[0m\u001b[0mto_unicode\u001b[0m\u001b[0;34m(\u001b[0m\u001b[0;34mb''\u001b[0m\u001b[0;34m.\u001b[0m\u001b[0mjoin\u001b[0m\u001b[0;34m(\u001b[0m\u001b[0mword\u001b[0m\u001b[0;34m)\u001b[0m\u001b[0;34m,\u001b[0m \u001b[0mencoding\u001b[0m\u001b[0;34m=\u001b[0m\u001b[0mencoding\u001b[0m\u001b[0;34m,\u001b[0m \u001b[0merrors\u001b[0m\u001b[0;34m=\u001b[0m\u001b[0municode_errors\u001b[0m\u001b[0;34m)\u001b[0m\u001b[0;34m\u001b[0m\u001b[0m\n\u001b[0m\u001b[1;32m    214\u001b[0m                 \u001b[0mweights\u001b[0m \u001b[0;34m=\u001b[0m \u001b[0mfromstring\u001b[0m\u001b[0;34m(\u001b[0m\u001b[0mfin\u001b[0m\u001b[0;34m.\u001b[0m\u001b[0mread\u001b[0m\u001b[0;34m(\u001b[0m\u001b[0mbinary_len\u001b[0m\u001b[0;34m)\u001b[0m\u001b[0;34m,\u001b[0m \u001b[0mdtype\u001b[0m\u001b[0;34m=\u001b[0m\u001b[0mREAL\u001b[0m\u001b[0;34m)\u001b[0m\u001b[0;34m.\u001b[0m\u001b[0mastype\u001b[0m\u001b[0;34m(\u001b[0m\u001b[0mdatatype\u001b[0m\u001b[0;34m)\u001b[0m\u001b[0;34m\u001b[0m\u001b[0m\n\u001b[1;32m    215\u001b[0m                 \u001b[0madd_word\u001b[0m\u001b[0;34m(\u001b[0m\u001b[0mword\u001b[0m\u001b[0;34m,\u001b[0m \u001b[0mweights\u001b[0m\u001b[0;34m)\u001b[0m\u001b[0;34m\u001b[0m\u001b[0m\n",
      "\u001b[0;32m/home/sinchan/.local/lib/python2.7/site-packages/gensim/utils.pyc\u001b[0m in \u001b[0;36many2unicode\u001b[0;34m(text, encoding, errors)\u001b[0m\n\u001b[1;32m    357\u001b[0m     \u001b[0;32mif\u001b[0m \u001b[0misinstance\u001b[0m\u001b[0;34m(\u001b[0m\u001b[0mtext\u001b[0m\u001b[0;34m,\u001b[0m \u001b[0municode\u001b[0m\u001b[0;34m)\u001b[0m\u001b[0;34m:\u001b[0m\u001b[0;34m\u001b[0m\u001b[0m\n\u001b[1;32m    358\u001b[0m         \u001b[0;32mreturn\u001b[0m \u001b[0mtext\u001b[0m\u001b[0;34m\u001b[0m\u001b[0m\n\u001b[0;32m--> 359\u001b[0;31m     \u001b[0;32mreturn\u001b[0m \u001b[0municode\u001b[0m\u001b[0;34m(\u001b[0m\u001b[0mtext\u001b[0m\u001b[0;34m,\u001b[0m \u001b[0mencoding\u001b[0m\u001b[0;34m,\u001b[0m \u001b[0merrors\u001b[0m\u001b[0;34m=\u001b[0m\u001b[0merrors\u001b[0m\u001b[0;34m)\u001b[0m\u001b[0;34m\u001b[0m\u001b[0m\n\u001b[0m\u001b[1;32m    360\u001b[0m \u001b[0;34m\u001b[0m\u001b[0m\n\u001b[1;32m    361\u001b[0m \u001b[0;34m\u001b[0m\u001b[0m\n",
      "\u001b[0;32m/usr/lib/python2.7/encodings/utf_8.pyc\u001b[0m in \u001b[0;36mdecode\u001b[0;34m(input, errors)\u001b[0m\n\u001b[1;32m     14\u001b[0m \u001b[0;34m\u001b[0m\u001b[0m\n\u001b[1;32m     15\u001b[0m \u001b[0;32mdef\u001b[0m \u001b[0mdecode\u001b[0m\u001b[0;34m(\u001b[0m\u001b[0minput\u001b[0m\u001b[0;34m,\u001b[0m \u001b[0merrors\u001b[0m\u001b[0;34m=\u001b[0m\u001b[0;34m'strict'\u001b[0m\u001b[0;34m)\u001b[0m\u001b[0;34m:\u001b[0m\u001b[0;34m\u001b[0m\u001b[0m\n\u001b[0;32m---> 16\u001b[0;31m     \u001b[0;32mreturn\u001b[0m \u001b[0mcodecs\u001b[0m\u001b[0;34m.\u001b[0m\u001b[0mutf_8_decode\u001b[0m\u001b[0;34m(\u001b[0m\u001b[0minput\u001b[0m\u001b[0;34m,\u001b[0m \u001b[0merrors\u001b[0m\u001b[0;34m,\u001b[0m \u001b[0mTrue\u001b[0m\u001b[0;34m)\u001b[0m\u001b[0;34m\u001b[0m\u001b[0m\n\u001b[0m\u001b[1;32m     17\u001b[0m \u001b[0;34m\u001b[0m\u001b[0m\n\u001b[1;32m     18\u001b[0m \u001b[0;32mclass\u001b[0m \u001b[0mIncrementalEncoder\u001b[0m\u001b[0;34m(\u001b[0m\u001b[0mcodecs\u001b[0m\u001b[0;34m.\u001b[0m\u001b[0mIncrementalEncoder\u001b[0m\u001b[0;34m)\u001b[0m\u001b[0;34m:\u001b[0m\u001b[0;34m\u001b[0m\u001b[0m\n",
      "\u001b[0;31mUnicodeDecodeError\u001b[0m: 'utf8' codec can't decode byte 0xa1 in position 0: invalid start byte"
     ]
    }
   ],
   "source": [
    "from gensim.models import KeyedVectors\n",
    "w2v = KeyedVectors.load_word2vec_format(\"/home/sinchan/Videos/wiki-news-300d-1M.vec\",binary = True)"
   ]
  },
  {
   "cell_type": "code",
   "execution_count": 4,
   "metadata": {},
   "outputs": [
    {
     "ename": "MemoryError",
     "evalue": "",
     "output_type": "error",
     "traceback": [
      "\u001b[0;31m---------------------------------------------------------------------------\u001b[0m",
      "\u001b[0;31mMemoryError\u001b[0m                               Traceback (most recent call last)",
      "\u001b[0;32m<ipython-input-4-4a5954f230a5>\u001b[0m in \u001b[0;36m<module>\u001b[0;34m()\u001b[0m\n\u001b[1;32m      1\u001b[0m \u001b[0;32mfrom\u001b[0m \u001b[0mgensim\u001b[0m\u001b[0;34m.\u001b[0m\u001b[0mmodels\u001b[0m \u001b[0;32mimport\u001b[0m \u001b[0mKeyedVectors\u001b[0m\u001b[0;34m\u001b[0m\u001b[0m\n\u001b[0;32m----> 2\u001b[0;31m \u001b[0mw2v\u001b[0m \u001b[0;34m=\u001b[0m \u001b[0mKeyedVectors\u001b[0m\u001b[0;34m.\u001b[0m\u001b[0mload_word2vec_format\u001b[0m\u001b[0;34m(\u001b[0m\u001b[0;34m\"/home/sinchan/Videos/Classification based on intent/GoogleNews-vectors-negative300.bin.gz\"\u001b[0m\u001b[0;34m,\u001b[0m\u001b[0mbinary\u001b[0m \u001b[0;34m=\u001b[0m \u001b[0mTrue\u001b[0m\u001b[0;34m)\u001b[0m\u001b[0;34m\u001b[0m\u001b[0m\n\u001b[0m",
      "\u001b[0;32m/home/sinchan/.local/lib/python2.7/site-packages/gensim/models/keyedvectors.pyc\u001b[0m in \u001b[0;36mload_word2vec_format\u001b[0;34m(cls, fname, fvocab, binary, encoding, unicode_errors, limit, datatype)\u001b[0m\n\u001b[1;32m   1117\u001b[0m         return _load_word2vec_format(\n\u001b[1;32m   1118\u001b[0m             \u001b[0mWord2VecKeyedVectors\u001b[0m\u001b[0;34m,\u001b[0m \u001b[0mfname\u001b[0m\u001b[0;34m,\u001b[0m \u001b[0mfvocab\u001b[0m\u001b[0;34m=\u001b[0m\u001b[0mfvocab\u001b[0m\u001b[0;34m,\u001b[0m \u001b[0mbinary\u001b[0m\u001b[0;34m=\u001b[0m\u001b[0mbinary\u001b[0m\u001b[0;34m,\u001b[0m \u001b[0mencoding\u001b[0m\u001b[0;34m=\u001b[0m\u001b[0mencoding\u001b[0m\u001b[0;34m,\u001b[0m \u001b[0municode_errors\u001b[0m\u001b[0;34m=\u001b[0m\u001b[0municode_errors\u001b[0m\u001b[0;34m,\u001b[0m\u001b[0;34m\u001b[0m\u001b[0m\n\u001b[0;32m-> 1119\u001b[0;31m             limit=limit, datatype=datatype)\n\u001b[0m\u001b[1;32m   1120\u001b[0m \u001b[0;34m\u001b[0m\u001b[0m\n\u001b[1;32m   1121\u001b[0m     \u001b[0;32mdef\u001b[0m \u001b[0mget_keras_embedding\u001b[0m\u001b[0;34m(\u001b[0m\u001b[0mself\u001b[0m\u001b[0;34m,\u001b[0m \u001b[0mtrain_embeddings\u001b[0m\u001b[0;34m=\u001b[0m\u001b[0mFalse\u001b[0m\u001b[0;34m)\u001b[0m\u001b[0;34m:\u001b[0m\u001b[0;34m\u001b[0m\u001b[0m\n",
      "\u001b[0;32m/home/sinchan/.local/lib/python2.7/site-packages/gensim/models/utils_any2vec.pyc\u001b[0m in \u001b[0;36m_load_word2vec_format\u001b[0;34m(cls, fname, fvocab, binary, encoding, unicode_errors, limit, datatype)\u001b[0m\n\u001b[1;32m    178\u001b[0m         \u001b[0mresult\u001b[0m \u001b[0;34m=\u001b[0m \u001b[0mcls\u001b[0m\u001b[0;34m(\u001b[0m\u001b[0mvector_size\u001b[0m\u001b[0;34m)\u001b[0m\u001b[0;34m\u001b[0m\u001b[0m\n\u001b[1;32m    179\u001b[0m         \u001b[0mresult\u001b[0m\u001b[0;34m.\u001b[0m\u001b[0mvector_size\u001b[0m \u001b[0;34m=\u001b[0m \u001b[0mvector_size\u001b[0m\u001b[0;34m\u001b[0m\u001b[0m\n\u001b[0;32m--> 180\u001b[0;31m         \u001b[0mresult\u001b[0m\u001b[0;34m.\u001b[0m\u001b[0mvectors\u001b[0m \u001b[0;34m=\u001b[0m \u001b[0mzeros\u001b[0m\u001b[0;34m(\u001b[0m\u001b[0;34m(\u001b[0m\u001b[0mvocab_size\u001b[0m\u001b[0;34m,\u001b[0m \u001b[0mvector_size\u001b[0m\u001b[0;34m)\u001b[0m\u001b[0;34m,\u001b[0m \u001b[0mdtype\u001b[0m\u001b[0;34m=\u001b[0m\u001b[0mdatatype\u001b[0m\u001b[0;34m)\u001b[0m\u001b[0;34m\u001b[0m\u001b[0m\n\u001b[0m\u001b[1;32m    181\u001b[0m \u001b[0;34m\u001b[0m\u001b[0m\n\u001b[1;32m    182\u001b[0m         \u001b[0;32mdef\u001b[0m \u001b[0madd_word\u001b[0m\u001b[0;34m(\u001b[0m\u001b[0mword\u001b[0m\u001b[0;34m,\u001b[0m \u001b[0mweights\u001b[0m\u001b[0;34m)\u001b[0m\u001b[0;34m:\u001b[0m\u001b[0;34m\u001b[0m\u001b[0m\n",
      "\u001b[0;31mMemoryError\u001b[0m: "
     ]
    }
   ],
   "source": [
    "from gensim.models import KeyedVectors\n",
    "w2v = KeyedVectors.load_word2vec_format(\"/home/sinchan/Videos/Classification based on intent/GoogleNews-vectors-negative300.bin.gz\",binary = True)"
   ]
  },
  {
   "cell_type": "code",
   "execution_count": null,
   "metadata": {},
   "outputs": [],
   "source": []
  },
  {
   "cell_type": "code",
   "execution_count": null,
   "metadata": {},
   "outputs": [
    {
     "name": "stdout",
     "output_type": "stream",
     "text": [
      "Loading Glove Model\n"
     ]
    }
   ],
   "source": [
    "import numpy as np\n",
    "def loadGloveModel(gloveFile):\n",
    "    print \"Loading Glove Model\"\n",
    "    f = open(gloveFile,'r')\n",
    "    model = {}\n",
    "    for line in f:\n",
    "        splitLine = line.split()\n",
    "        word = splitLine[0]\n",
    "        embedding = np.array([float(val) for val in splitLine[1:]])\n",
    "        model[word] = embedding\n",
    "    print \"Done.\",len(model),\" words loaded!\"\n",
    "    return model\n",
    "\n",
    "glove = loadGloveModel(\"/home/sinchan/Videos/wiki-news-300d-1M.vec\")"
   ]
  },
  {
   "cell_type": "markdown",
   "metadata": {},
   "source": [
    "## Reading Dictionaries"
   ]
  },
  {
   "cell_type": "code",
   "execution_count": 3,
   "metadata": {},
   "outputs": [],
   "source": [
    "import pickle\n",
    "with open('/home/sinchan/Videos/slot_filling/slot_word_dict.pickle', 'r+') as fp:\n",
    "    dicts = pickle.load(fp)\n",
    "fp.close()\n",
    "\n",
    "slot_dict,word_dict = dicts"
   ]
  },
  {
   "cell_type": "code",
   "execution_count": 5,
   "metadata": {},
   "outputs": [
    {
     "data": {
      "text/plain": [
       "766"
      ]
     },
     "execution_count": 5,
     "metadata": {},
     "output_type": "execute_result"
    }
   ],
   "source": [
    "len(word_dict)"
   ]
  },
  {
   "cell_type": "markdown",
   "metadata": {},
   "source": [
    "## Storing Embeddings for required words"
   ]
  },
  {
   "cell_type": "code",
   "execution_count": 6,
   "metadata": {},
   "outputs": [],
   "source": [
    "# glove_embeddings = dict()\n",
    "# for word in word_dict:\n",
    "#     try:\n",
    "#         glove_embeddings[word] = glove[word]\n",
    "#     except:\n",
    "#         ;\n",
    "\n",
    "w2v_embeddings = dict()\n",
    "for word in word_dict:\n",
    "    try:\n",
    "        w2v_embeddings[word] = w2v[word]\n",
    "    except:\n",
    "         ;"
   ]
  },
  {
   "cell_type": "code",
   "execution_count": null,
   "metadata": {},
   "outputs": [],
   "source": []
  },
  {
   "cell_type": "code",
   "execution_count": 7,
   "metadata": {},
   "outputs": [
    {
     "ename": "IOError",
     "evalue": "[Errno 13] Permission denied: '/w2v_embeddings.pickle'",
     "output_type": "error",
     "traceback": [
      "\u001b[0;31m---------------------------------------------------------------------------\u001b[0m",
      "\u001b[0;31mIOError\u001b[0m                                   Traceback (most recent call last)",
      "\u001b[0;32m<ipython-input-7-a7b831bf9146>\u001b[0m in \u001b[0;36m<module>\u001b[0;34m()\u001b[0m\n\u001b[1;32m      3\u001b[0m \u001b[0;31m# fp.close()\u001b[0m\u001b[0;34m\u001b[0m\u001b[0;34m\u001b[0m\u001b[0m\n\u001b[1;32m      4\u001b[0m \u001b[0;34m\u001b[0m\u001b[0m\n\u001b[0;32m----> 5\u001b[0;31m \u001b[0;32mwith\u001b[0m \u001b[0mopen\u001b[0m\u001b[0;34m(\u001b[0m\u001b[0;34m'/w2v_embeddings.pickle'\u001b[0m\u001b[0;34m,\u001b[0m \u001b[0;34m'w+'\u001b[0m\u001b[0;34m)\u001b[0m \u001b[0;32mas\u001b[0m \u001b[0mfp\u001b[0m\u001b[0;34m:\u001b[0m\u001b[0;34m\u001b[0m\u001b[0m\n\u001b[0m\u001b[1;32m      6\u001b[0m      \u001b[0mpickle\u001b[0m\u001b[0;34m.\u001b[0m\u001b[0mdump\u001b[0m\u001b[0;34m(\u001b[0m\u001b[0mw2v_embeddings\u001b[0m\u001b[0;34m,\u001b[0m \u001b[0mfp\u001b[0m\u001b[0;34m)\u001b[0m\u001b[0;34m\u001b[0m\u001b[0m\n\u001b[1;32m      7\u001b[0m \u001b[0mfp\u001b[0m\u001b[0;34m.\u001b[0m\u001b[0mclose\u001b[0m\u001b[0;34m(\u001b[0m\u001b[0;34m)\u001b[0m\u001b[0;34m\u001b[0m\u001b[0m\n",
      "\u001b[0;31mIOError\u001b[0m: [Errno 13] Permission denied: '/w2v_embeddings.pickle'"
     ]
    }
   ],
   "source": [
    "# with open('pickle/glove_embeddings.pickle', 'w+') as fp:\n",
    "#     pickle.dump(glove_embeddings, fp)\n",
    "# fp.close()\n",
    "\n",
    "with open('/w2v_embeddings.pickle', 'w+') as fp:\n",
    "     pickle.dump(w2v_embeddings, fp)\n",
    "fp.close()"
   ]
  },
  {
   "cell_type": "code",
   "execution_count": 19,
   "metadata": {},
   "outputs": [],
   "source": [
    "#with open('pickle/glove_embeddings.pickle', 'r+') as fp:\n",
    " #   glove_embeddings = pickle.load(fp)\n",
    "#fp.close()\n",
    "\n",
    "with open('pickle/w2v_embeddings.pickle', 'r+') as fp:\n",
    "    w2v_embeddings = pickle.load(fp)\n",
    "fp.close()"
   ]
  },
  {
   "cell_type": "code",
   "execution_count": 27,
   "metadata": {},
   "outputs": [
    {
     "name": "stderr",
     "output_type": "stream",
     "text": [
      "IOPub data rate exceeded.\n",
      "The notebook server will temporarily stop sending output\n",
      "to the client in order to avoid crashing it.\n",
      "To change this limit, set the config variable\n",
      "`--NotebookApp.iopub_data_rate_limit`.\n"
     ]
    }
   ],
   "source": [
    "glove_embeddings"
   ]
  },
  {
   "cell_type": "code",
   "execution_count": null,
   "metadata": {},
   "outputs": [],
   "source": []
  },
  {
   "cell_type": "markdown",
   "metadata": {},
   "source": [
    "## Embedding Matrix Combined"
   ]
  },
  {
   "cell_type": "code",
   "execution_count": 8,
   "metadata": {},
   "outputs": [],
   "source": [
    "nb_words = len(word_dict)\n",
    "EMBEDDING_DIM = 900\n",
    "embedding_matrix = np.zeros((nb_words+1, EMBEDDING_DIM))\n",
    "\n",
    "i = 0\n",
    "x_g = x_w = 0\n",
    "for word in word_dict:\n",
    "    if flag==1:\n",
    "        \n",
    "    try:\n",
    "        embedding_matrix[word_dict[word]][:300] = w2v_embeddings[word]\n",
    "    except KeyError:\n",
    "        x_w += 1"
   ]
  },
  {
   "cell_type": "code",
   "execution_count": 9,
   "metadata": {},
   "outputs": [],
   "source": [
    "with open('/home/sinchan/Videos/slot_filling/embedding_matrix.pickle', 'w+') as fp:\n",
    "     pickle.dump(embedding_matrix, fp)\n",
    "fp.close()"
   ]
  },
  {
   "cell_type": "code",
   "execution_count": 15,
   "metadata": {},
   "outputs": [
    {
     "data": {
      "text/plain": [
       "array([-0.33203125, -0.12011719, -0.14257812,  0.12255859, -0.21191406,\n",
       "       -0.19042969, -0.04711914,  0.109375  ,  0.11669922, -0.07177734,\n",
       "       -0.04101562, -0.18847656, -0.05151367,  0.06054688, -0.11230469,\n",
       "       -0.06298828,  0.07958984,  0.11425781,  0.02197266,  0.13964844,\n",
       "       -0.1328125 ,  0.09667969,  0.16796875, -0.15332031, -0.23144531,\n",
       "        0.12353516, -0.1328125 ,  0.12890625, -0.09863281,  0.08935547,\n",
       "        0.22558594, -0.28515625,  0.1328125 , -0.00698853, -0.13378906,\n",
       "       -0.19824219,  0.09228516,  0.1796875 , -0.20117188, -0.18847656,\n",
       "        0.28320312,  0.2109375 , -0.06689453, -0.03417969,  0.08251953,\n",
       "       -0.17382812,  0.09326172, -0.19335938, -0.02758789,  0.12792969,\n",
       "       -0.20605469,  0.07421875, -0.03515625,  0.09326172, -0.14453125,\n",
       "       -0.07666016, -0.22167969,  0.22070312,  0.28125   ,  0.07324219,\n",
       "       -0.03979492, -0.05200195,  0.16308594, -0.0480957 ,  0.09960938,\n",
       "       -0.43359375, -0.17773438, -0.11425781, -0.0189209 ,  0.07714844,\n",
       "        0.07910156,  0.03063965,  0.26757812, -0.265625  , -0.06835938,\n",
       "       -0.40039062,  0.25976562, -0.02209473,  0.03662109,  0.3828125 ,\n",
       "       -0.10595703,  0.0291748 ,  0.00836182, -0.16992188,  0.21484375,\n",
       "       -0.14355469, -0.20996094,  0.08398438,  0.46875   , -0.04394531,\n",
       "        0.14257812,  0.04711914, -0.04492188,  0.15722656, -0.24902344,\n",
       "       -0.05664062,  0.00970459, -0.04760742,  0.05297852,  0.03613281,\n",
       "        0.14941406, -0.12695312,  0.00138092,  0.13671875,  0.4921875 ,\n",
       "        0.07861328, -0.05786133,  0.01171875,  0.00099182,  0.015625  ,\n",
       "        0.10595703, -0.37695312, -0.27929688, -0.34960938,  0.04418945,\n",
       "        0.15527344,  0.01348877,  0.14355469, -0.01000977, -0.18164062,\n",
       "       -0.04272461, -0.27148438,  0.01391602, -0.10986328,  0.12451172,\n",
       "        0.01953125, -0.16015625,  0.11132812, -0.02746582, -0.25390625,\n",
       "       -0.19140625, -0.01953125, -0.04174805, -0.12988281, -0.16699219,\n",
       "        0.16796875,  0.09228516,  0.06176758,  0.02258301,  0.05322266,\n",
       "        0.03027344,  0.08447266,  0.37109375,  0.2109375 , -0.09130859,\n",
       "       -0.32421875, -0.04516602,  0.01403809, -0.06933594,  0.08203125,\n",
       "       -0.08837891, -0.21386719, -0.28125   ,  0.19140625, -0.30664062,\n",
       "        0.08789062,  0.29101562, -0.15136719, -0.09570312,  0.09716797,\n",
       "       -0.20800781, -0.02050781, -0.0546875 ,  0.08984375, -0.08007812,\n",
       "        0.01708984,  0.06445312,  0.24511719, -0.2578125 ,  0.25976562,\n",
       "       -0.02404785, -0.13378906,  0.13183594, -0.07519531,  0.05566406,\n",
       "        0.24023438,  0.00457764, -0.14355469, -0.02832031,  0.09619141,\n",
       "       -0.05834961,  0.02941895,  0.13378906, -0.01348877, -0.0062561 ,\n",
       "        0.10107422,  0.03979492, -0.24511719,  0.44140625, -0.12451172,\n",
       "       -0.15039062, -0.05834961, -0.0402832 ,  0.06542969,  0.05444336,\n",
       "        0.21191406,  0.09423828, -0.30664062, -0.14453125, -0.28710938,\n",
       "       -0.27539062,  0.10302734,  0.16210938, -0.05395508, -0.18457031,\n",
       "       -0.0402832 ,  0.00369263,  0.08837891,  0.20214844, -0.1640625 ,\n",
       "        0.24316406, -0.05883789, -0.07324219, -0.17675781, -0.01940918,\n",
       "       -0.12402344,  0.23828125, -0.234375  ,  0.07666016, -0.13671875,\n",
       "       -0.18945312,  0.34960938, -0.17871094,  0.33984375,  0.00236511,\n",
       "        0.12695312, -0.13964844,  0.16308594,  0.00442505, -0.11132812,\n",
       "        0.15234375,  0.32421875, -0.06005859, -0.125     , -0.12792969,\n",
       "       -0.08935547,  0.09814453,  0.09033203,  0.15429688,  0.07714844,\n",
       "       -0.24902344, -0.17773438, -0.03808594, -0.09716797, -0.14355469,\n",
       "       -0.25195312,  0.17285156,  0.15917969,  0.11328125,  0.23925781,\n",
       "        0.09375   ,  0.08105469, -0.30664062, -0.06982422,  0.09033203,\n",
       "       -0.14160156,  0.34765625,  0.24023438, -0.02746582,  0.05029297,\n",
       "        0.19433594,  0.15429688, -0.09570312, -0.22265625,  0.08203125,\n",
       "       -0.06640625, -0.1953125 , -0.11865234, -0.09521484, -0.07373047,\n",
       "       -0.04467773,  0.04736328, -0.07861328, -0.05078125, -0.19628906,\n",
       "       -0.07275391, -0.10791016,  0.08544922, -0.23144531,  0.24414062,\n",
       "       -0.08056641,  0.07617188,  0.07568359, -0.24316406,  0.02307129,\n",
       "       -0.01623535,  0.03149414, -0.23535156,  0.11816406,  0.29101562,\n",
       "        0.19042969, -0.08837891,  0.02526855,  0.08886719, -0.15820312,\n",
       "        0.06079102, -0.3671875 , -0.04199219, -0.18554688, -0.2265625 ,\n",
       "       -0.33203125, -0.12011719, -0.14257812,  0.12255859, -0.21191406,\n",
       "       -0.19042969, -0.04711914,  0.109375  ,  0.11669922, -0.07177734,\n",
       "       -0.04101562, -0.18847656, -0.05151367,  0.06054688, -0.11230469,\n",
       "       -0.06298828,  0.07958984,  0.11425781,  0.02197266,  0.13964844,\n",
       "       -0.1328125 ,  0.09667969,  0.16796875, -0.15332031, -0.23144531,\n",
       "        0.12353516, -0.1328125 ,  0.12890625, -0.09863281,  0.08935547,\n",
       "        0.22558594, -0.28515625,  0.1328125 , -0.00698853, -0.13378906,\n",
       "       -0.19824219,  0.09228516,  0.1796875 , -0.20117188, -0.18847656,\n",
       "        0.28320312,  0.2109375 , -0.06689453, -0.03417969,  0.08251953,\n",
       "       -0.17382812,  0.09326172, -0.19335938, -0.02758789,  0.12792969,\n",
       "       -0.20605469,  0.07421875, -0.03515625,  0.09326172, -0.14453125,\n",
       "       -0.07666016, -0.22167969,  0.22070312,  0.28125   ,  0.07324219,\n",
       "       -0.03979492, -0.05200195,  0.16308594, -0.0480957 ,  0.09960938,\n",
       "       -0.43359375, -0.17773438, -0.11425781, -0.0189209 ,  0.07714844,\n",
       "        0.07910156,  0.03063965,  0.26757812, -0.265625  , -0.06835938,\n",
       "       -0.40039062,  0.25976562, -0.02209473,  0.03662109,  0.3828125 ,\n",
       "       -0.10595703,  0.0291748 ,  0.00836182, -0.16992188,  0.21484375,\n",
       "       -0.14355469, -0.20996094,  0.08398438,  0.46875   , -0.04394531,\n",
       "        0.14257812,  0.04711914, -0.04492188,  0.15722656, -0.24902344,\n",
       "       -0.05664062,  0.00970459, -0.04760742,  0.05297852,  0.03613281,\n",
       "        0.14941406, -0.12695312,  0.00138092,  0.13671875,  0.4921875 ,\n",
       "        0.07861328, -0.05786133,  0.01171875,  0.00099182,  0.015625  ,\n",
       "        0.10595703, -0.37695312, -0.27929688, -0.34960938,  0.04418945,\n",
       "        0.15527344,  0.01348877,  0.14355469, -0.01000977, -0.18164062,\n",
       "       -0.04272461, -0.27148438,  0.01391602, -0.10986328,  0.12451172,\n",
       "        0.01953125, -0.16015625,  0.11132812, -0.02746582, -0.25390625,\n",
       "       -0.19140625, -0.01953125, -0.04174805, -0.12988281, -0.16699219,\n",
       "        0.16796875,  0.09228516,  0.06176758,  0.02258301,  0.05322266,\n",
       "        0.03027344,  0.08447266,  0.37109375,  0.2109375 , -0.09130859,\n",
       "       -0.32421875, -0.04516602,  0.01403809, -0.06933594,  0.08203125,\n",
       "       -0.08837891, -0.21386719, -0.28125   ,  0.19140625, -0.30664062,\n",
       "        0.08789062,  0.29101562, -0.15136719, -0.09570312,  0.09716797,\n",
       "       -0.20800781, -0.02050781, -0.0546875 ,  0.08984375, -0.08007812,\n",
       "        0.01708984,  0.06445312,  0.24511719, -0.2578125 ,  0.25976562,\n",
       "       -0.02404785, -0.13378906,  0.13183594, -0.07519531,  0.05566406,\n",
       "        0.24023438,  0.00457764, -0.14355469, -0.02832031,  0.09619141,\n",
       "       -0.05834961,  0.02941895,  0.13378906, -0.01348877, -0.0062561 ,\n",
       "        0.10107422,  0.03979492, -0.24511719,  0.44140625, -0.12451172,\n",
       "       -0.15039062, -0.05834961, -0.0402832 ,  0.06542969,  0.05444336,\n",
       "        0.21191406,  0.09423828, -0.30664062, -0.14453125, -0.28710938,\n",
       "       -0.27539062,  0.10302734,  0.16210938, -0.05395508, -0.18457031,\n",
       "       -0.0402832 ,  0.00369263,  0.08837891,  0.20214844, -0.1640625 ,\n",
       "        0.24316406, -0.05883789, -0.07324219, -0.17675781, -0.01940918,\n",
       "       -0.12402344,  0.23828125, -0.234375  ,  0.07666016, -0.13671875,\n",
       "       -0.18945312,  0.34960938, -0.17871094,  0.33984375,  0.00236511,\n",
       "        0.12695312, -0.13964844,  0.16308594,  0.00442505, -0.11132812,\n",
       "        0.15234375,  0.32421875, -0.06005859, -0.125     , -0.12792969,\n",
       "       -0.08935547,  0.09814453,  0.09033203,  0.15429688,  0.07714844,\n",
       "       -0.24902344, -0.17773438, -0.03808594, -0.09716797, -0.14355469,\n",
       "       -0.25195312,  0.17285156,  0.15917969,  0.11328125,  0.23925781,\n",
       "        0.09375   ,  0.08105469, -0.30664062, -0.06982422,  0.09033203,\n",
       "       -0.14160156,  0.34765625,  0.24023438, -0.02746582,  0.05029297,\n",
       "        0.19433594,  0.15429688, -0.09570312, -0.22265625,  0.08203125,\n",
       "       -0.06640625, -0.1953125 , -0.11865234, -0.09521484, -0.07373047,\n",
       "       -0.04467773,  0.04736328, -0.07861328, -0.05078125, -0.19628906,\n",
       "       -0.07275391, -0.10791016,  0.08544922, -0.23144531,  0.24414062,\n",
       "       -0.08056641,  0.07617188,  0.07568359, -0.24316406,  0.02307129,\n",
       "       -0.01623535,  0.03149414, -0.23535156,  0.11816406,  0.29101562,\n",
       "        0.19042969, -0.08837891,  0.02526855,  0.08886719, -0.15820312,\n",
       "        0.06079102, -0.3671875 , -0.04199219, -0.18554688, -0.2265625 ])"
      ]
     },
     "execution_count": 15,
     "metadata": {},
     "output_type": "execute_result"
    }
   ],
   "source": [
    "embedding_matrix[1]"
   ]
  },
  {
   "cell_type": "markdown",
   "metadata": {
    "collapsed": true
   },
   "source": [
    "# Embedding Matrix Glove"
   ]
  },
  {
   "cell_type": "code",
   "execution_count": 23,
   "metadata": {},
   "outputs": [],
   "source": [
    "nb_words = len(word_dict)\n",
    "EMBEDDING_DIM = 300\n",
    "embedding_matrix_g = np.zeros((nb_words+1, EMBEDDING_DIM))\n",
    "\n",
    "i = 0\n",
    "x_g = 0\n",
    "for word in word_dict:\n",
    "    try:\n",
    "        embedding_matrix_g[word_dict[word]][:300] = glove_embeddings[word]\n",
    "    except KeyError:\n",
    "        x_g += 1"
   ]
  },
  {
   "cell_type": "code",
   "execution_count": 24,
   "metadata": {},
   "outputs": [],
   "source": [
    "# with open('pickle/embedding_matrix_g.pickle', 'w+') as fp:\n",
    "#     pickle.dump(embedding_matrix_g, fp)\n",
    "# fp.close()"
   ]
  },
  {
   "cell_type": "markdown",
   "metadata": {},
   "source": [
    "# Embedding matrix Word2vec"
   ]
  },
  {
   "cell_type": "code",
   "execution_count": 17,
   "metadata": {},
   "outputs": [],
   "source": [
    "nb_words = len(word_dict)\n",
    "EMBEDDING_DIM = 300\n",
    "embedding_matrix_w = np.zeros((nb_words+1, EMBEDDING_DIM))\n",
    "\n",
    "i = 0\n",
    "x_w = 0\n",
    "for word in word_dict:\n",
    "    try:\n",
    "        embedding_matrix[word_dict[word]][:300] = w2v_embeddings[word]\n",
    "    except KeyError:\n",
    "        x_w += 1"
   ]
  },
  {
   "cell_type": "code",
   "execution_count": 12,
   "metadata": {},
   "outputs": [],
   "source": [
    "with open('/home/sinchan/Videos/slot_filling/embedding_matrix_w.pickle', 'w+') as fp:\n",
    "     pickle.dump(embedding_matrix_w, fp)\n",
    "fp.close()"
   ]
  },
  {
   "cell_type": "code",
   "execution_count": 16,
   "metadata": {},
   "outputs": [
    {
     "data": {
      "text/plain": [
       "array([0., 0., 0., 0., 0., 0., 0., 0., 0., 0., 0., 0., 0., 0., 0., 0., 0.,\n",
       "       0., 0., 0., 0., 0., 0., 0., 0., 0., 0., 0., 0., 0., 0., 0., 0., 0.,\n",
       "       0., 0., 0., 0., 0., 0., 0., 0., 0., 0., 0., 0., 0., 0., 0., 0., 0.,\n",
       "       0., 0., 0., 0., 0., 0., 0., 0., 0., 0., 0., 0., 0., 0., 0., 0., 0.,\n",
       "       0., 0., 0., 0., 0., 0., 0., 0., 0., 0., 0., 0., 0., 0., 0., 0., 0.,\n",
       "       0., 0., 0., 0., 0., 0., 0., 0., 0., 0., 0., 0., 0., 0., 0., 0., 0.,\n",
       "       0., 0., 0., 0., 0., 0., 0., 0., 0., 0., 0., 0., 0., 0., 0., 0., 0.,\n",
       "       0., 0., 0., 0., 0., 0., 0., 0., 0., 0., 0., 0., 0., 0., 0., 0., 0.,\n",
       "       0., 0., 0., 0., 0., 0., 0., 0., 0., 0., 0., 0., 0., 0., 0., 0., 0.,\n",
       "       0., 0., 0., 0., 0., 0., 0., 0., 0., 0., 0., 0., 0., 0., 0., 0., 0.,\n",
       "       0., 0., 0., 0., 0., 0., 0., 0., 0., 0., 0., 0., 0., 0., 0., 0., 0.,\n",
       "       0., 0., 0., 0., 0., 0., 0., 0., 0., 0., 0., 0., 0., 0., 0., 0., 0.,\n",
       "       0., 0., 0., 0., 0., 0., 0., 0., 0., 0., 0., 0., 0., 0., 0., 0., 0.,\n",
       "       0., 0., 0., 0., 0., 0., 0., 0., 0., 0., 0., 0., 0., 0., 0., 0., 0.,\n",
       "       0., 0., 0., 0., 0., 0., 0., 0., 0., 0., 0., 0., 0., 0., 0., 0., 0.,\n",
       "       0., 0., 0., 0., 0., 0., 0., 0., 0., 0., 0., 0., 0., 0., 0., 0., 0.,\n",
       "       0., 0., 0., 0., 0., 0., 0., 0., 0., 0., 0., 0., 0., 0., 0., 0., 0.,\n",
       "       0., 0., 0., 0., 0., 0., 0., 0., 0., 0., 0.])"
      ]
     },
     "execution_count": 16,
     "metadata": {},
     "output_type": "execute_result"
    }
   ],
   "source": [
    "embedding_matrix_w[1]"
   ]
  },
  {
   "cell_type": "code",
   "execution_count": null,
   "metadata": {},
   "outputs": [],
   "source": []
  }
 ],
 "metadata": {
  "kernelspec": {
   "display_name": "Python 2",
   "language": "python",
   "name": "python2"
  },
  "language_info": {
   "codemirror_mode": {
    "name": "ipython",
    "version": 2
   },
   "file_extension": ".py",
   "mimetype": "text/x-python",
   "name": "python",
   "nbconvert_exporter": "python",
   "pygments_lexer": "ipython2",
   "version": "2.7.15rc1"
  }
 },
 "nbformat": 4,
 "nbformat_minor": 2
}
